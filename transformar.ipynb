{
 "cells": [
  {
   "cell_type": "code",
   "execution_count": null,
   "metadata": {},
   "outputs": [],
   "source": [
    "import pandas as pd\n",
    "import json\n",
    "import pyarrow\n",
    "\n",
    "# Nota: Se debe especificar la ruta del archivo Parquet\n",
    "parquet_archivo = 'Ruta/del/archivo/business.parquet'\n",
    "\n",
    "# Cargar el archivo Parquet a un dataframe\n",
    "df = pd.read_parquet(parquet_archivo, engine='pyarrow')\n",
    "\n",
    "# Muestra aleatoria de 5 filas del DataFrame \n",
    "df.sample(5)"
   ]
  },
  {
   "cell_type": "code",
   "execution_count": null,
   "metadata": {},
   "outputs": [],
   "source": [
    "#Mostrar resumen útil de la estructura de los datos después de cargarlos con los nombres de las columnas\n",
    "df.info()"
   ]
  },
  {
   "cell_type": "code",
   "execution_count": null,
   "metadata": {},
   "outputs": [],
   "source": [
    "#  Seleccionar columnas necesarias\n",
    "columnas_necesarias = [\n",
    "    'ID_CLIENTE', 'ANTIGUEDAD_MESES', 'TIPO_TARJETA', \n",
    "    'LINEA_CREDITO', 'RNG_LINEA', 'DEUDA_TARJETA', \n",
    "    'SEGMENTO_BANCO', 'AMBITO', 'ZONA', 'EDAD', \n",
    "    'SEXO', 'ECIVIL', 'Total_facturacion', 'Num_compras'\n",
    "]\n",
    "\n",
    "if all(col in df.columns for col in columnas_necesarias):\n",
    "    df_transformado = df[columnas_necesarias]\n",
    "else:\n",
    "    print(f'Las columnas necesarias {columnas_necesarias} no están presentes en el archivo Parquet.')\n",
    "    df_transformado = df\n",
    "\n",
    "# Agrupar por ID_CLIENTE excluyendo la columna de agrupación en el resultado de apply\n",
    "agrupar_data = df_transformado.groupby('ID_CLIENTE', group_keys=False).apply(lambda x: x.to_dict(orient='records'), include_groups=False).to_dict()\n",
    "\n",
    "# Exportar a JSON con una estructura coherente\n",
    "#Nota: se debe ingresar su ruta para guardas el archivo .json\n",
    "json_salida = 'Ruta/del/archivo/business2.json'\n",
    "with open(json_salida, 'w', encoding='utf-8') as file:\n",
    "    json.dump(agrupar_data, file, indent=4, ensure_ascii=False)\n",
    "\n",
    "print(f'Data transformada y agrupada exportada a {json_salida}')\n"
   ]
  },
  {
   "cell_type": "code",
   "execution_count": null,
   "metadata": {},
   "outputs": [],
   "source": [
    "# Ahora se puede mostrar el archivo exportado a Json \n",
    "\n",
    "#Leer el archivo JSON para verificar la estructura\n",
    "with open(json_salida, 'r', encoding='utf-8') as file:\n",
    "    df_json = json.load(file)\n",
    "\n",
    "# Imprimir ID_CLIENTE y registros asociados \n",
    "for cliente_id, registros in df_json.items():\n",
    "    print(f\"ID_CLIENTE: {cliente_id}\")\n",
    "    for registro in registros:\n",
    "        registro_sin_id = {k: v for k, v in registro.items() if k != 'ID_CLIENTE'}\n",
    "        print(json.dumps(registro_sin_id, indent=4, ensure_ascii=False))\n",
    "    print(\"\\n\")  # Añadir una línea en blanco entre clientes para mayor claridad\n",
    "\n",
    "# Mostrar algunas filas del DataFrame original\n",
    "print(df_transformado.head())\n",
    "\n",
    "# Mostrar información general del DataFrame original\n",
    "print(df_transformado.info())\n",
    "\n",
    "\n"
   ]
  }
 ],
 "metadata": {
  "kernelspec": {
   "display_name": "Python 3",
   "language": "python",
   "name": "python3"
  },
  "language_info": {
   "codemirror_mode": {
    "name": "ipython",
    "version": 3
   },
   "file_extension": ".py",
   "mimetype": "text/x-python",
   "name": "python",
   "nbconvert_exporter": "python",
   "pygments_lexer": "ipython3",
   "version": "3.12.3"
  }
 },
 "nbformat": 4,
 "nbformat_minor": 2
}
