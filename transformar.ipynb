{
 "cells": [
  {
   "cell_type": "code",
   "execution_count": null,
   "metadata": {},
   "outputs": [],
   "source": [
    "import pandas as pd\n",
    "\n",
    "# Se debe especificar la ruta del archivo Parquet\n",
    "parquet_archivo = 'ruta/archivo/business.parquet'\n",
    "\n",
    "# Cargar el archivo Parquet a un dataframe\n",
    "df= pd.read_parquet(parquet_archivo)\n",
    "\n",
    "# Muestra aleatoria de 5 filas del DataFrame \n",
    "df.sample(5)"
   ]
  },
  {
   "cell_type": "code",
   "execution_count": null,
   "metadata": {},
   "outputs": [],
   "source": [
    "#Mostrar resumen útil de la estructura de los datos después de cargarlos con los nombres de las columnas\n",
    "df.info()"
   ]
  },
  {
   "cell_type": "code",
   "execution_count": null,
   "metadata": {},
   "outputs": [],
   "source": [
    "# Seleccionar columnas del archivo business.parquet \n",
    "columnas_necesarias = ['ID_CLIENTE', 'ANTIGUEDAD_MESES', 'TIPO_TARJETA', \n",
    "                        'LINEA_CREDITO', 'RNG_LINEA','DEUDA_TARJETA', 'SEGMENTO_BANCO',\n",
    "                        'AMBITO','ZONA','EDAD','SEXO','ECIVIL', 'Total_facturacion','Num_compras']\n",
    "if all(col in df.columns for col in columnas_necesarias):\n",
    "    df_transformado = df[columnas_necesarias]\n",
    "else:\n",
    "    print(f'Las columnas necesarias {columnas_necesarias} no están presentes en el archivo Parquet.')\n",
    "    df_transformado = df\n",
    "\n",
    "\n",
    "# Exportar a JSON con la ruta que debes especificar\n",
    "json_salida = 'ruta/archivo/business2.json'\n",
    "df_transformado.to_json(json_salida, orient='records')\n",
    "        \n",
    "print(f'Data transformada exportada a {json_salida}')\n"
   ]
  },
  {
   "cell_type": "code",
   "execution_count": null,
   "metadata": {},
   "outputs": [],
   "source": [
    "# Ahora se puede mostrar el archivo exportado a Json como un dataframe\n",
    "\n",
    "# Leer el archivo JSON\n",
    "df_json = pd.read_json(json_salida)\n",
    "\n",
    "# Mostrar las primeras filas del DataFrame\n",
    "print(df_json.head())\n",
    "\n",
    "# Mostrar información general del DataFrame\n",
    "print(df_json.info())\n"
   ]
  }
 ],
 "metadata": {
  "kernelspec": {
   "display_name": "Python 3",
   "language": "python",
   "name": "python3"
  },
  "language_info": {
   "codemirror_mode": {
    "name": "ipython",
    "version": 3
   },
   "file_extension": ".py",
   "mimetype": "text/x-python",
   "name": "python",
   "nbconvert_exporter": "python",
   "pygments_lexer": "ipython3",
   "version": "3.12.3"
  }
 },
 "nbformat": 4,
 "nbformat_minor": 2
}
